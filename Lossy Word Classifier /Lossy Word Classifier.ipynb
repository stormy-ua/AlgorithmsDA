{
 "cells": [
  {
   "cell_type": "code",
   "execution_count": 12,
   "metadata": {
    "collapsed": false
   },
   "outputs": [],
   "source": [
    "import numpy as np\n",
    "import requests\n",
    "import pyprind\n",
    "import pickle\n",
    "import matplotlib.pyplot as plt\n",
    "import seaborn as sb\n",
    "import itertools\n",
    "import pandas as pd"
   ]
  },
  {
   "cell_type": "code",
   "execution_count": 2,
   "metadata": {
    "collapsed": false
   },
   "outputs": [],
   "source": [
    "# load all words vocabulary. All these words should be classified as positive samples.\n",
    "positives = np.genfromtxt('words.txt', dtype=np.str, delimiter='\\n\\r')"
   ]
  },
  {
   "cell_type": "code",
   "execution_count": 3,
   "metadata": {
    "collapsed": false
   },
   "outputs": [
    {
     "data": {
      "text/plain": [
       "array(['A', \"A'asia\", \"A's\", 'AA', \"AA's\", 'AAA', 'AAAA', 'AAAAAA', 'AAAL',\n",
       "       'AAAS'], \n",
       "      dtype='<U60')"
      ]
     },
     "execution_count": 3,
     "metadata": {},
     "output_type": "execute_result"
    }
   ],
   "source": [
    "positives[0:10]"
   ]
  },
  {
   "cell_type": "code",
   "execution_count": 4,
   "metadata": {
    "collapsed": false
   },
   "outputs": [],
   "source": [
    "def collectTrainData(samples=100):\n",
    "    seeds = np.random.uniform(0, 1919415150, samples)\n",
    "    bar = pyprind.ProgBar(samples, bar_char='█')\n",
    "    dump = {}\n",
    "    for seed in seeds:\n",
    "        r = requests.get('https://hola.org/challenges/word_classifier/testcase/%d'%seed)\n",
    "        json = r.json()\n",
    "        dump.update(json)\n",
    "        bar.update()\n",
    "    return dump"
   ]
  },
  {
   "cell_type": "code",
   "execution_count": 5,
   "metadata": {
    "collapsed": true
   },
   "outputs": [],
   "source": [
    "def saveTrainData(dump):\n",
    "    with open('train.txt', 'wb') as file:\n",
    "        pickle.dump(dump, file)\n",
    "\n",
    "def loadTrainData():\n",
    "    with open('train.txt', 'rb') as file:\n",
    "        return pickle.loads(file.read())"
   ]
  },
  {
   "cell_type": "code",
   "execution_count": 5,
   "metadata": {
    "collapsed": false
   },
   "outputs": [
    {
     "name": "stderr",
     "output_type": "stream",
     "text": [
      "0%                          100%\n",
      "[██████████████████████████████] | ETA: 00:00:00\n",
      "Total time elapsed: 00:01:09\n"
     ]
    }
   ],
   "source": [
    "train = collectTrainData()\n",
    "saveTrainData(train)"
   ]
  },
  {
   "cell_type": "code",
   "execution_count": 6,
   "metadata": {
    "collapsed": true
   },
   "outputs": [],
   "source": [
    "train = loadTrainData()"
   ]
  },
  {
   "cell_type": "code",
   "execution_count": 7,
   "metadata": {
    "collapsed": false
   },
   "outputs": [
    {
     "data": {
      "text/plain": [
       "[('stampeders', True),\n",
       " ('hobapoutaunes', False),\n",
       " ('palaeology', True),\n",
       " ('retched', True),\n",
       " ('electrophilicities', True)]"
      ]
     },
     "execution_count": 7,
     "metadata": {},
     "output_type": "execute_result"
    }
   ],
   "source": [
    "[(key, train[key]) for key in train.keys()][:5]"
   ]
  },
  {
   "cell_type": "code",
   "execution_count": 83,
   "metadata": {
    "collapsed": false
   },
   "outputs": [],
   "source": [
    "def validate(classifier, train):\n",
    "    return np.sum([classifier(sample) == train[sample] for sample in train])/len(train)"
   ]
  },
  {
   "cell_type": "code",
   "execution_count": 10,
   "metadata": {
    "collapsed": false
   },
   "outputs": [],
   "source": [
    "chars = []\n",
    "for w in positives:\n",
    "    for c in list(w):\n",
    "        chars.append(c)"
   ]
  },
  {
   "cell_type": "code",
   "execution_count": 19,
   "metadata": {
    "collapsed": false
   },
   "outputs": [],
   "source": [
    "chars_hist = {}\n",
    "for c in chars:\n",
    "    if c in chars_hist:\n",
    "        chars_hist[c] += 1\n",
    "    else:\n",
    "        chars_hist[c] = 0"
   ]
  },
  {
   "cell_type": "code",
   "execution_count": 49,
   "metadata": {
    "collapsed": false
   },
   "outputs": [],
   "source": [
    "charProbs = {c: chars_hist[c]/sum(chars_hist.values()) for c in chars_hist}"
   ]
  },
  {
   "cell_type": "code",
   "execution_count": 58,
   "metadata": {
    "collapsed": false
   },
   "outputs": [],
   "source": [
    "def getCharPairs(word):\n",
    "    return list(zip([None] + list(word), list(word)))\n",
    "\n",
    "charPairsHist = {}\n",
    "\n",
    "for w in positives:\n",
    "    for p in getCharPairs(w):\n",
    "        if p in charPairsHist:\n",
    "            charPairsHist[p] += 1\n",
    "        else:\n",
    "            charPairsHist[p] = 0"
   ]
  },
  {
   "cell_type": "code",
   "execution_count": 61,
   "metadata": {
    "collapsed": false
   },
   "outputs": [],
   "source": [
    "charCondProbs = {(c1, c2): charPairsHist[(c1, c2)]/(chars_hist[c1] if c1 != None else len(positives)) for (c1, c2) in charPairsHist}"
   ]
  },
  {
   "cell_type": "code",
   "execution_count": 82,
   "metadata": {
    "collapsed": false
   },
   "outputs": [],
   "source": [
    "def getWordProb(word):\n",
    "    prob = 1\n",
    "    for c1, c2 in list(zip([None] + list(word), list(word))):\n",
    "        if not c2 in charProbs:\n",
    "            return 0\n",
    "        if not (c1, c2) in charCondProbs:\n",
    "            return 0\n",
    "        prob *= charCondProbs[(c1, c2)] * charProbs[c2]\n",
    "    return prob"
   ]
  },
  {
   "cell_type": "code",
   "execution_count": 85,
   "metadata": {
    "collapsed": false
   },
   "outputs": [
    {
     "data": {
      "text/plain": [
       "0.50973504616619836"
      ]
     },
     "execution_count": 85,
     "metadata": {},
     "output_type": "execute_result"
    }
   ],
   "source": [
    "validate(lambda w: getWordProb(w) > 0.1, train)"
   ]
  }
 ],
 "metadata": {
  "kernelspec": {
   "display_name": "Python 3",
   "language": "python",
   "name": "python3"
  },
  "language_info": {
   "codemirror_mode": {
    "name": "ipython",
    "version": 3
   },
   "file_extension": ".py",
   "mimetype": "text/x-python",
   "name": "python",
   "nbconvert_exporter": "python",
   "pygments_lexer": "ipython3",
   "version": "3.5.0"
  }
 },
 "nbformat": 4,
 "nbformat_minor": 0
}
