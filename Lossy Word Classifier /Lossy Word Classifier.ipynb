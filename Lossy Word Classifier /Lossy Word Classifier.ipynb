{
 "cells": [
  {
   "cell_type": "code",
   "execution_count": 367,
   "metadata": {
    "collapsed": false
   },
   "outputs": [],
   "source": [
    "import numpy as np\n",
    "import requests\n",
    "import pyprind\n",
    "import pickle\n",
    "import matplotlib.pyplot as plt\n",
    "import seaborn as sb\n",
    "import itertools\n",
    "import pandas as pd\n",
    "%matplotlib inline"
   ]
  },
  {
   "cell_type": "code",
   "execution_count": 368,
   "metadata": {
    "collapsed": false
   },
   "outputs": [],
   "source": [
    "# load all words vocabulary. All these words should be classified as positive samples.\n",
    "positives = [w.lower() for w in np.genfromtxt('words.txt', dtype=np.str, delimiter='\\n\\r')]"
   ]
  },
  {
   "cell_type": "code",
   "execution_count": 369,
   "metadata": {
    "collapsed": false
   },
   "outputs": [
    {
     "data": {
      "text/plain": [
       "['a', \"a'asia\", \"a's\", 'aa', \"aa's\", 'aaa', 'aaaa', 'aaaaaa', 'aaal', 'aaas']"
      ]
     },
     "execution_count": 369,
     "metadata": {},
     "output_type": "execute_result"
    }
   ],
   "source": [
    "positives[0:10]"
   ]
  },
  {
   "cell_type": "code",
   "execution_count": 370,
   "metadata": {
    "collapsed": false
   },
   "outputs": [],
   "source": [
    "def collectTrainData(samples=100):\n",
    "    seeds = np.random.uniform(0, 1919415150, samples)\n",
    "    bar = pyprind.ProgBar(samples, bar_char='█')\n",
    "    dump = {}\n",
    "    for seed in seeds:\n",
    "        r = requests.get('https://hola.org/challenges/word_classifier/testcase/%d'%seed)\n",
    "        json = r.json()\n",
    "        dump.update(json)\n",
    "        bar.update()\n",
    "    return dump"
   ]
  },
  {
   "cell_type": "code",
   "execution_count": 371,
   "metadata": {
    "collapsed": true
   },
   "outputs": [],
   "source": [
    "def saveTrainData(dump):\n",
    "    with open('train.txt', 'wb') as file:\n",
    "        pickle.dump(dump, file)\n",
    "\n",
    "def loadTrainData():\n",
    "    with open('train.txt', 'rb') as file:\n",
    "        return pickle.loads(file.read())"
   ]
  },
  {
   "cell_type": "code",
   "execution_count": 372,
   "metadata": {
    "collapsed": false
   },
   "outputs": [
    {
     "name": "stderr",
     "output_type": "stream",
     "text": [
      "0%                          100%\n",
      "[██████████████████████████████] | ETA: 00:00:00\n",
      "Total time elapsed: 00:00:19\n"
     ]
    }
   ],
   "source": [
    "train = collectTrainData()\n",
    "saveTrainData(train)"
   ]
  },
  {
   "cell_type": "code",
   "execution_count": 373,
   "metadata": {
    "collapsed": true
   },
   "outputs": [],
   "source": [
    "train = loadTrainData()"
   ]
  },
  {
   "cell_type": "code",
   "execution_count": 374,
   "metadata": {
    "collapsed": false
   },
   "outputs": [
    {
     "data": {
      "text/plain": [
       "[('anthropotheist', True),\n",
       " ('caballing', True),\n",
       " ('immunologist', True),\n",
       " ('vaconornaggiaticraters', False),\n",
       " ('mishings', False)]"
      ]
     },
     "execution_count": 374,
     "metadata": {},
     "output_type": "execute_result"
    }
   ],
   "source": [
    "[(key, train[key]) for key in train.keys()][:5]"
   ]
  },
  {
   "cell_type": "code",
   "execution_count": 375,
   "metadata": {
    "collapsed": false
   },
   "outputs": [],
   "source": [
    "def validate(classifier, train):\n",
    "    predicted = [classifier(sample) == train[sample] for sample in train]\n",
    "    return np.sum(predicted)/len(train), predicted"
   ]
  },
  {
   "cell_type": "code",
   "execution_count": 376,
   "metadata": {
    "collapsed": false
   },
   "outputs": [],
   "source": [
    "chars = []\n",
    "for w in positives:\n",
    "    for c in list(w):\n",
    "        chars.append(c)"
   ]
  },
  {
   "cell_type": "code",
   "execution_count": 377,
   "metadata": {
    "collapsed": false
   },
   "outputs": [],
   "source": [
    "chars_hist = {None: len(positives)}\n",
    "for c in chars:\n",
    "    if c in chars_hist:\n",
    "        chars_hist[c] += 1\n",
    "    else:\n",
    "        chars_hist[c] = 0"
   ]
  },
  {
   "cell_type": "code",
   "execution_count": 378,
   "metadata": {
    "collapsed": false
   },
   "outputs": [],
   "source": [
    "charProbs = {c: np.log(1 + chars_hist[c]/sum(chars_hist.values())) for c in chars_hist}"
   ]
  },
  {
   "cell_type": "code",
   "execution_count": 379,
   "metadata": {
    "collapsed": false
   },
   "outputs": [],
   "source": [
    "def getCharPairs(word):\n",
    "    return list(zip([None] + list(word), list(word)))\n",
    "\n",
    "charPairsHist = {}\n",
    "\n",
    "for w in positives:\n",
    "    for p in getCharPairs(w):\n",
    "        if p in charPairsHist:\n",
    "            charPairsHist[p] += 1\n",
    "        else:\n",
    "            charPairsHist[p] = 0\n",
    "\n",
    "for c in np.unique([list(w)[0] for w in positives]):\n",
    "    charPairsHist[(None, c)] = len([w for w in positives if list(w)[0] == c])\n",
    "    \n",
    "for c in np.unique([list(w)[len(w) - 1] for w in positives]):\n",
    "    charPairsHist[(c, None)] = len([w for w in positives if list(w)[len(w) - 1] == c])"
   ]
  },
  {
   "cell_type": "code",
   "execution_count": 382,
   "metadata": {
    "collapsed": false
   },
   "outputs": [
    {
     "data": {
      "text/plain": [
       "(44922, 26851)"
      ]
     },
     "execution_count": 382,
     "metadata": {},
     "output_type": "execute_result"
    }
   ],
   "source": [
    "charPairsHist[(None, 'a')], charPairsHist[('a', None)]"
   ]
  },
  {
   "cell_type": "code",
   "execution_count": 381,
   "metadata": {
    "collapsed": false
   },
   "outputs": [],
   "source": [
    "charCondProbs = {(c1, c2): np.log(1 + charPairsHist[(c1, c2)]/chars_hist[c1]) for (c1, c2) in charPairsHist}"
   ]
  },
  {
   "cell_type": "code",
   "execution_count": null,
   "metadata": {
    "collapsed": false
   },
   "outputs": [],
   "source": [
    "def getWordProb(word):\n",
    "    prob = 0\n",
    "    for c1, c2 in list(zip([None] + list(word), list(word) + [None])):\n",
    "        if not c2 in charProbs:\n",
    "            return 0\n",
    "        if not (c1, c2) in charCondProbs:\n",
    "            return 0\n",
    "        prob += (charCondProbs[(c1, c2)] if (c1, c2) in charCondProbs else 0)\n",
    "    return prob"
   ]
  },
  {
   "cell_type": "code",
   "execution_count": 384,
   "metadata": {
    "collapsed": false
   },
   "outputs": [
    {
     "data": {
      "text/plain": [
       "(0.11498718242369202, 0.065684933513879801, 0.074109864701684403)"
      ]
     },
     "execution_count": 384,
     "metadata": {},
     "output_type": "execute_result"
    }
   ],
   "source": [
    "getWordProb('a'), charCondProbs[(None, 'a')], charProbs['a']"
   ]
  },
  {
   "cell_type": "code",
   "execution_count": 385,
   "metadata": {
    "collapsed": false
   },
   "outputs": [],
   "source": [
    "x = np.linspace(0, 1, num=20)\n",
    "accuracy =  [validate(lambda w: getWordProb(w) > t, train)[0] for t in x]"
   ]
  },
  {
   "cell_type": "code",
   "execution_count": 386,
   "metadata": {
    "collapsed": false
   },
   "outputs": [
    {
     "data": {
      "image/png": "[encoded data removed]",
      "text/plain": [
       "<matplotlib.figure.Figure at 0x10a99b358>"
      ]
     },
     "metadata": {},
     "output_type": "display_data"
    }
   ],
   "source": [
    "plt.figure(figsize=(10, 5))\n",
    "plt.plot(x, accuracy)\n",
    "plt.tight_layout()\n",
    "plt.grid()"
   ]
  },
  {
   "cell_type": "code",
   "execution_count": 388,
   "metadata": {
    "collapsed": false
   },
   "outputs": [
    {
     "data": {
      "text/html": [
       "<div>\n",
       "<table border=\"1\" class=\"dataframe\">\n",
       "  <thead>\n",
       "    <tr style=\"text-align: right;\">\n",
       "      <th>col_0</th>\n",
       "      <th>False</th>\n",
       "      <th>True</th>\n",
       "    </tr>\n",
       "    <tr>\n",
       "      <th>row_0</th>\n",
       "      <th></th>\n",
       "      <th></th>\n",
       "    </tr>\n",
       "  </thead>\n",
       "  <tbody>\n",
       "    <tr>\n",
       "      <th>False</th>\n",
       "      <td>4042</td>\n",
       "      <td>901</td>\n",
       "    </tr>\n",
       "    <tr>\n",
       "      <th>True</th>\n",
       "      <td>396</td>\n",
       "      <td>4630</td>\n",
       "    </tr>\n",
       "  </tbody>\n",
       "</table>\n",
       "</div>"
      ],
      "text/plain": [
       "col_0  False  True \n",
       "row_0              \n",
       "False   4042    901\n",
       "True     396   4630"
      ]
     },
     "execution_count": 388,
     "metadata": {},
     "output_type": "execute_result"
    }
   ],
   "source": [
    "predicted = pd.Series(validate(lambda w: getWordProb(w) > 0.55, train)[1])\n",
    "actual = pd.Series(list(train.values()))\n",
    "pd.crosstab(actual, predicted)"
   ]
  }
 ],
 "metadata": {
  "kernelspec": {
   "display_name": "Python 3",
   "language": "python",
   "name": "python3"
  },
  "language_info": {
   "codemirror_mode": {
    "name": "ipython",
    "version": 3
   },
   "file_extension": ".py",
   "mimetype": "text/x-python",
   "name": "python",
   "nbconvert_exporter": "python",
   "pygments_lexer": "ipython3",
   "version": "3.5.0"
  }
 },
 "nbformat": 4,
 "nbformat_minor": 0
}
