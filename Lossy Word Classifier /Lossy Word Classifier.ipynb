{
 "cells": [
  {
   "cell_type": "code",
   "execution_count": 621,
   "metadata": {
    "collapsed": false
   },
   "outputs": [],
   "source": [
    "import numpy as np\n",
    "import requests\n",
    "import pyprind\n",
    "import pickle\n",
    "import matplotlib.pyplot as plt\n",
    "import seaborn as sb\n",
    "import itertools\n",
    "import pandas as pd\n",
    "%matplotlib inline"
   ]
  },
  {
   "cell_type": "code",
   "execution_count": 622,
   "metadata": {
    "collapsed": false
   },
   "outputs": [],
   "source": [
    "# load all words vocabulary. All these words should be classified as positive samples.\n",
    "positives = [w.lower() for w in np.genfromtxt('words.txt', dtype=np.str, delimiter='\\n\\r')]"
   ]
  },
  {
   "cell_type": "code",
   "execution_count": 623,
   "metadata": {
    "collapsed": false
   },
   "outputs": [
    {
     "data": {
      "text/plain": [
       "['a', \"a'asia\", \"a's\", 'aa', \"aa's\", 'aaa', 'aaaa', 'aaaaaa', 'aaal', 'aaas']"
      ]
     },
     "execution_count": 623,
     "metadata": {},
     "output_type": "execute_result"
    }
   ],
   "source": [
    "positives[0:10]"
   ]
  },
  {
   "cell_type": "code",
   "execution_count": 624,
   "metadata": {
    "collapsed": false
   },
   "outputs": [],
   "source": [
    "def collectTrainData(samples=100):\n",
    "    seeds = np.random.uniform(0, 1919415150, samples)\n",
    "    bar = pyprind.ProgBar(samples, bar_char='█')\n",
    "    dump = {}\n",
    "    for seed in seeds:\n",
    "        r = requests.get('https://hola.org/challenges/word_classifier/testcase/%d'%seed)\n",
    "        json = r.json()\n",
    "        dump.update(json)\n",
    "        bar.update()\n",
    "    return dump"
   ]
  },
  {
   "cell_type": "code",
   "execution_count": 625,
   "metadata": {
    "collapsed": true
   },
   "outputs": [],
   "source": [
    "def saveTrainData(dump):\n",
    "    with open('train.txt', 'wb') as file:\n",
    "        pickle.dump(dump, file)\n",
    "\n",
    "def loadTrainData():\n",
    "    with open('train.txt', 'rb') as file:\n",
    "        return pickle.loads(file.read())"
   ]
  },
  {
   "cell_type": "code",
   "execution_count": 626,
   "metadata": {
    "collapsed": false
   },
   "outputs": [
    {
     "name": "stderr",
     "output_type": "stream",
     "text": [
      "0%                          100%\n",
      "[██████████████████████████████] | ETA: 00:00:00\n",
      "Total time elapsed: 00:00:19\n"
     ]
    }
   ],
   "source": [
    "train = collectTrainData()\n",
    "saveTrainData(train)"
   ]
  },
  {
   "cell_type": "code",
   "execution_count": 627,
   "metadata": {
    "collapsed": true
   },
   "outputs": [],
   "source": [
    "train = loadTrainData()"
   ]
  },
  {
   "cell_type": "code",
   "execution_count": 628,
   "metadata": {
    "collapsed": false
   },
   "outputs": [
    {
     "data": {
      "text/plain": [
       "[(\"bedsitter's\", True),\n",
       " ('zkndbglsestsqdjiht', False),\n",
       " ('sorriness', True),\n",
       " (\"mppkgdbn'xuoszfm\", False),\n",
       " (\"edyntitinotickunci'ssurbmainakh\", False)]"
      ]
     },
     "execution_count": 628,
     "metadata": {},
     "output_type": "execute_result"
    }
   ],
   "source": [
    "[(key, train[key]) for key in train.keys()][:5]"
   ]
  },
  {
   "cell_type": "code",
   "execution_count": 629,
   "metadata": {
    "collapsed": false
   },
   "outputs": [],
   "source": [
    "def validate(classifier, train):\n",
    "    predicted = [classifier(sample) == train[sample] for sample in train]\n",
    "    return np.sum(predicted)/len(train), [classifier(sample) for sample in train]"
   ]
  },
  {
   "cell_type": "code",
   "execution_count": 630,
   "metadata": {
    "collapsed": false
   },
   "outputs": [],
   "source": [
    "chars = []\n",
    "for w in positives:\n",
    "    for c in list(w):\n",
    "        chars.append(c)"
   ]
  },
  {
   "cell_type": "code",
   "execution_count": 631,
   "metadata": {
    "collapsed": false
   },
   "outputs": [],
   "source": [
    "chars_hist = {None: len(positives)}\n",
    "for c in chars:\n",
    "    if c in chars_hist:\n",
    "        chars_hist[c] += 1\n",
    "    else:\n",
    "        chars_hist[c] = 1"
   ]
  },
  {
   "cell_type": "code",
   "execution_count": 632,
   "metadata": {
    "collapsed": false
   },
   "outputs": [],
   "source": [
    "charProbs = {c: np.log(1 + chars_hist[c]/sum(chars_hist.values())) for c in chars_hist}"
   ]
  },
  {
   "cell_type": "code",
   "execution_count": 633,
   "metadata": {
    "collapsed": false
   },
   "outputs": [],
   "source": [
    "def getCharPairs(word):\n",
    "    return list(zip([None] + list(word), list(word) + [None]))\n",
    "\n",
    "charPairsHist = {}\n",
    "\n",
    "for w in positives:\n",
    "    for p in getCharPairs(w):\n",
    "        if p in charPairsHist:\n",
    "            charPairsHist[p] += 1\n",
    "        else:\n",
    "            charPairsHist[p] = 1"
   ]
  },
  {
   "cell_type": "code",
   "execution_count": 634,
   "metadata": {
    "collapsed": false
   },
   "outputs": [
    {
     "data": {
      "text/plain": [
       "(44922, 26851)"
      ]
     },
     "execution_count": 634,
     "metadata": {},
     "output_type": "execute_result"
    }
   ],
   "source": [
    "charPairsHist[(None, 'a')], charPairsHist[('a', None)]"
   ]
  },
  {
   "cell_type": "code",
   "execution_count": 635,
   "metadata": {
    "collapsed": false
   },
   "outputs": [],
   "source": [
    "charCondProbs = {(c1, c2): np.log(1 + charPairsHist[(c1, c2)]/chars_hist[c1]) for (c1, c2) in charPairsHist}"
   ]
  },
  {
   "cell_type": "code",
   "execution_count": 636,
   "metadata": {
    "collapsed": false
   },
   "outputs": [
    {
     "data": {
      "text/plain": [
       "767"
      ]
     },
     "execution_count": 636,
     "metadata": {},
     "output_type": "execute_result"
    }
   ],
   "source": [
    "len(charCondProbs)"
   ]
  },
  {
   "cell_type": "code",
   "execution_count": 637,
   "metadata": {
    "collapsed": false
   },
   "outputs": [],
   "source": [
    "def getWordProb(word):\n",
    "    prob = 0\n",
    "    for c1, c2 in list(zip([None] + list(word), list(word) + [None])):\n",
    "        if not c2 in charProbs:\n",
    "            return 0\n",
    "        if not (c1, c2) in charCondProbs:\n",
    "            return 0\n",
    "        prob += (charCondProbs[(c1, c2)] if (c1, c2) in charCondProbs else 0)\n",
    "    return prob"
   ]
  },
  {
   "cell_type": "code",
   "execution_count": 638,
   "metadata": {
    "collapsed": false
   },
   "outputs": [
    {
     "data": {
      "text/plain": [
       "(0.11498709187958997, 0.065684933513879801, 0.074109719909888572)"
      ]
     },
     "execution_count": 638,
     "metadata": {},
     "output_type": "execute_result"
    }
   ],
   "source": [
    "getWordProb('a'), charCondProbs[(None, 'a')], charProbs['a']"
   ]
  },
  {
   "cell_type": "code",
   "execution_count": 639,
   "metadata": {
    "collapsed": false
   },
   "outputs": [
    {
     "data": {
      "image/png": "[encoded data removed]",
      "text/plain": [
       "<matplotlib.figure.Figure at 0x129546e10>"
      ]
     },
     "metadata": {},
     "output_type": "display_data"
    }
   ],
   "source": [
    "x = np.linspace(0, 2, num=50)\n",
    "accuracy =  [validate(lambda w: getWordProb(w) > t, train)[0] for t in x]\n",
    "plt.figure(figsize=(10, 5))\n",
    "plt.plot(x, accuracy)\n",
    "plt.tight_layout()\n",
    "plt.grid()"
   ]
  },
  {
   "cell_type": "code",
   "execution_count": 640,
   "metadata": {
    "collapsed": false
   },
   "outputs": [
    {
     "data": {
      "text/plain": [
       "9967"
      ]
     },
     "execution_count": 640,
     "metadata": {},
     "output_type": "execute_result"
    }
   ],
   "source": [
    "len(train)"
   ]
  },
  {
   "cell_type": "code",
   "execution_count": 641,
   "metadata": {
    "collapsed": false
   },
   "outputs": [
    {
     "data": {
      "text/html": [
       "<div>\n",
       "<table border=\"1\" class=\"dataframe\">\n",
       "  <thead>\n",
       "    <tr style=\"text-align: right;\">\n",
       "      <th>col_0</th>\n",
       "      <th>False</th>\n",
       "      <th>True</th>\n",
       "    </tr>\n",
       "    <tr>\n",
       "      <th>row_0</th>\n",
       "      <th></th>\n",
       "      <th></th>\n",
       "    </tr>\n",
       "  </thead>\n",
       "  <tbody>\n",
       "    <tr>\n",
       "      <th>False</th>\n",
       "      <td>1056</td>\n",
       "      <td>3800</td>\n",
       "    </tr>\n",
       "    <tr>\n",
       "      <th>True</th>\n",
       "      <td>552</td>\n",
       "      <td>4559</td>\n",
       "    </tr>\n",
       "  </tbody>\n",
       "</table>\n",
       "</div>"
      ],
      "text/plain": [
       "col_0  False  True \n",
       "row_0              \n",
       "False   1056   3800\n",
       "True     552   4559"
      ]
     },
     "execution_count": 641,
     "metadata": {},
     "output_type": "execute_result"
    }
   ],
   "source": [
    "predicted = pd.Series(validate(lambda w: getWordProb(w) > 0.6, train)[1])\n",
    "actual = pd.Series(list(train.values()))\n",
    "pd.crosstab(actual, predicted)"
   ]
  },
  {
   "cell_type": "code",
   "execution_count": 642,
   "metadata": {
    "collapsed": true
   },
   "outputs": [],
   "source": [
    "def getCharTriples(word):\n",
    "    wordExt = list(word) + [None, None]\n",
    "    return [(wordExt[-2 + i], wordExt[-1 + i], wordExt[i]) for i in range(0, len(word) + 2)]"
   ]
  },
  {
   "cell_type": "code",
   "execution_count": 643,
   "metadata": {
    "collapsed": false
   },
   "outputs": [
    {
     "data": {
      "text/plain": [
       "[(None, None, 'a'),\n",
       " (None, 'a', 'b'),\n",
       " ('a', 'b', 'c'),\n",
       " ('b', 'c', None),\n",
       " ('c', None, None)]"
      ]
     },
     "execution_count": 643,
     "metadata": {},
     "output_type": "execute_result"
    }
   ],
   "source": [
    "getCharTriples('abc')"
   ]
  },
  {
   "cell_type": "code",
   "execution_count": 644,
   "metadata": {
    "collapsed": true
   },
   "outputs": [],
   "source": [
    "charTriplesHist = {}\n",
    "\n",
    "for w in positives:\n",
    "    for p in getCharTriples(w):\n",
    "        if p in charTriplesHist:\n",
    "            charTriplesHist[p] += 1\n",
    "        else:\n",
    "            charTriplesHist[p] = 1"
   ]
  },
  {
   "cell_type": "code",
   "execution_count": 645,
   "metadata": {
    "collapsed": false
   },
   "outputs": [],
   "source": [
    "charTriplesCondProbs = {(c1, c2, c3): np.log(1 + charTriplesHist[(c1, c2, c3)]/(charPairsHist[(c1, c2)] if (c1, c2) in charPairsHist else charPairsHist[(c2, c3)]))\\\n",
    "                        for (c1, c2, c3) in charTriplesHist}"
   ]
  },
  {
   "cell_type": "code",
   "execution_count": 646,
   "metadata": {
    "collapsed": true
   },
   "outputs": [],
   "source": [
    "def getWordProbForTriples(word):\n",
    "    prob = 0\n",
    "    for c1, c2, c3 in getCharTriples(word):\n",
    "        if not (c1, c2, c3) in charTriplesCondProbs:\n",
    "            return 0\n",
    "        prob += (charTriplesCondProbs[(c1, c2, c3)] if (c1, c2, c3) in charTriplesCondProbs else 0)\n",
    "    return prob"
   ]
  },
  {
   "cell_type": "code",
   "execution_count": 647,
   "metadata": {
    "collapsed": true
   },
   "outputs": [],
   "source": [
    "max_word_length = np.max([len(w) for w in positives])\n",
    "def lengthInRange(word):\n",
    "    return len(word) < max_word_length"
   ]
  },
  {
   "cell_type": "code",
   "execution_count": 648,
   "metadata": {
    "collapsed": false
   },
   "outputs": [
    {
     "data": {
      "text/plain": [
       "(1.3863388817440772, 0.017837708186021449)"
      ]
     },
     "execution_count": 648,
     "metadata": {},
     "output_type": "execute_result"
    }
   ],
   "source": [
    "getWordProbForTriples('a'), charTriplesCondProbs[('a', 'a', 'a')]"
   ]
  },
  {
   "cell_type": "code",
   "execution_count": 649,
   "metadata": {
    "collapsed": false
   },
   "outputs": [
    {
     "data": {
      "image/png": "[encoded data removed]",
      "text/plain": [
       "<matplotlib.figure.Figure at 0x11f34f710>"
      ]
     },
     "metadata": {},
     "output_type": "display_data"
    }
   ],
   "source": [
    "x = np.linspace(0, 2, num=20)\n",
    "accuracy =  [validate(lambda w: getWordProbForTriples(w) > t, train)[0] for t in x]\n",
    "plt.figure(figsize=(10, 5))\n",
    "plt.plot(x, accuracy)\n",
    "plt.title('Max accuracy: %s'%accuracy[np.argmax(accuracy)])\n",
    "plt.tight_layout()\n",
    "plt.grid()"
   ]
  },
  {
   "cell_type": "code",
   "execution_count": 650,
   "metadata": {
    "collapsed": false
   },
   "outputs": [
    {
     "data": {
      "text/html": [
       "<div>\n",
       "<table border=\"1\" class=\"dataframe\">\n",
       "  <thead>\n",
       "    <tr style=\"text-align: right;\">\n",
       "      <th>col_0</th>\n",
       "      <th>False</th>\n",
       "      <th>True</th>\n",
       "    </tr>\n",
       "    <tr>\n",
       "      <th>row_0</th>\n",
       "      <th></th>\n",
       "      <th></th>\n",
       "    </tr>\n",
       "  </thead>\n",
       "  <tbody>\n",
       "    <tr>\n",
       "      <th>False</th>\n",
       "      <td>958</td>\n",
       "      <td>3898</td>\n",
       "    </tr>\n",
       "    <tr>\n",
       "      <th>True</th>\n",
       "      <td>0</td>\n",
       "      <td>5111</td>\n",
       "    </tr>\n",
       "  </tbody>\n",
       "</table>\n",
       "</div>"
      ],
      "text/plain": [
       "col_0  False  True \n",
       "row_0              \n",
       "False    958   3898\n",
       "True       0   5111"
      ]
     },
     "execution_count": 650,
     "metadata": {},
     "output_type": "execute_result"
    }
   ],
   "source": [
    "predictedTriples = pd.Series(validate(lambda w: getWordProbForTriples(w) > 0, train)[1])\n",
    "actual = pd.Series(list(train.values()))\n",
    "pd.crosstab(actual, predictedTriples)"
   ]
  }
 ],
 "metadata": {
  "kernelspec": {
   "display_name": "Python 3",
   "language": "python",
   "name": "python3"
  },
  "language_info": {
   "codemirror_mode": {
    "name": "ipython",
    "version": 3
   },
   "file_extension": ".py",
   "mimetype": "text/x-python",
   "name": "python",
   "nbconvert_exporter": "python",
   "pygments_lexer": "ipython3",
   "version": "3.5.0"
  }
 },
 "nbformat": 4,
 "nbformat_minor": 0
}
